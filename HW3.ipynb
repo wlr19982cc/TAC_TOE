{
 "cells": [
  {
   "cell_type": "markdown",
   "metadata": {},
   "source": [
    "## Import Packages"
   ]
  },
  {
   "cell_type": "code",
   "execution_count": 1,
   "metadata": {},
   "outputs": [],
   "source": [
    "import math\n",
    "import numpy as np\n",
    "from itertools import cycle\n",
    "from collections import defaultdict\n",
    "import matplotlib.pyplot as plt\n",
    "%matplotlib inline"
   ]
  },
  {
   "cell_type": "markdown",
   "metadata": {},
   "source": [
    "## Mean-Shift Implementation"
   ]
  },
  {
   "cell_type": "code",
   "execution_count": 2,
   "metadata": {},
   "outputs": [],
   "source": [
    "class MeanShift:\n",
    "    def __init__(self, band_width=2.0, min_fre=3, epsilon=None, bin_seeding=False, bin_size=None):\n",
    "        self.epsilon = epsilon if epsilon else 1e-3 * band_width\n",
    "        self.bin_size = bin_size if bin_size else self.band_width\n",
    "        self.band_width = band_width\n",
    "        self.min_fre = min_fre  # 可以作为起始质心的球体内最少的样本数目\n",
    "        self.bin_seeding = bin_seeding\n",
    "        self.radius2 = self.band_width ** 2  # 高维球体半径的平方\n",
    "\n",
    "        self.N = None\n",
    "        self.labels = None\n",
    "        self.centers = []\n",
    "\n",
    "    def init_param(self, data):\n",
    "        # 初始化参数\n",
    "        self.N = data.shape[0]\n",
    "        self.labels = -1 * np.ones(self.N)\n",
    "        return\n",
    "\n",
    "    def get_seeds(self, data):\n",
    "        # 获取可以作为起始质心的点（seed）\n",
    "        if not self.bin_seeding:\n",
    "            return data\n",
    "        seed_list = []\n",
    "        seeds_fre = defaultdict(int)\n",
    "        for sample in data:\n",
    "            seed = tuple(np.round(sample / self.bin_size))  # 将数据粗粒化，以防止非常近的样本点都作为起始质心\n",
    "            seeds_fre[seed] += 1\n",
    "        for seed, fre in seeds_fre.items():\n",
    "            if fre >= self.min_fre:\n",
    "                seed_list.append(np.array(seed))\n",
    "        if not seed_list:\n",
    "            raise ValueError('the bin size and min_fre are not proper')\n",
    "        if len(seed_list) == data.shape[0]:\n",
    "            return data\n",
    "        return np.array(seed_list) * self.bin_size\n",
    "\n",
    "    def euclidean_dis2(self, center, sample):\n",
    "        # 计算均值点到每个样本点的欧式距离（平方）\n",
    "        delta = center - sample\n",
    "        return delta @ delta\n",
    "\n",
    "    def gaussian_kel(self, dis2):\n",
    "        # 计算高斯核\n",
    "        return 1.0 / self.band_width * (2 * math.pi) ** (-1.0 / 2) * math.exp(-dis2 / (2 * self.band_width ** 2))\n",
    "\n",
    "    def shift_center(self, current_center, data):\n",
    "        # 计算下一个漂移的坐标\n",
    "        denominator = 0  # 分母\n",
    "        numerator = np.zeros_like(current_center)  # 分子, 一维数组形式\n",
    "        for sample in data:\n",
    "            dis2 = self.euclidean_dis2(current_center, sample)\n",
    "            if dis2 <= self.radius2:\n",
    "                d = self.gaussian_kel(dis2)\n",
    "                denominator += d\n",
    "                numerator += d * sample\n",
    "        if denominator > 0:\n",
    "            return numerator / denominator\n",
    "        else:\n",
    "            return None\n",
    "\n",
    "    def classify(self, data):\n",
    "        # 根据最近邻将数据分类到最近的簇中\n",
    "        center_arr = np.array(self.centers)\n",
    "        for i in range(self.N):\n",
    "            delta = center_arr - data[i]\n",
    "            dis2 = np.sum(delta * delta, axis=1)\n",
    "            self.labels[i] = np.argmin(dis2)\n",
    "        return\n",
    "\n",
    "    def fit(self, data):\n",
    "        # 训练主函数\n",
    "        self.init_param(data)\n",
    "        seed_list = self.get_seeds(data)\n",
    "        for seed in seed_list:\n",
    "            bad_seed = False\n",
    "            current_center = seed\n",
    "            # 进行一次独立的均值漂移\n",
    "            while True:\n",
    "                next_center = self.shift_center(current_center, data)\n",
    "                if next_center is None:\n",
    "                    bad_seed = True\n",
    "                    break\n",
    "                delta_dis = np.linalg.norm(next_center - current_center, 2)\n",
    "                if delta_dis < self.epsilon:\n",
    "                    break\n",
    "                current_center = next_center\n",
    "            if not bad_seed:\n",
    "                # 若该次漂移结束后，最终的质心与已存在的质心距离小于带宽，则合并\n",
    "                for i in range(len(self.centers)):\n",
    "                    if np.linalg.norm(current_center - self.centers[i], 2) < self.band_width:\n",
    "                        break\n",
    "                else:\n",
    "                    self.centers.append(current_center)\n",
    "        self.classify(data)\n",
    "        return"
   ]
  },
  {
   "cell_type": "markdown",
   "metadata": {},
   "source": [
    "## Generate Samples"
   ]
  },
  {
   "cell_type": "code",
   "execution_count": 3,
   "metadata": {},
   "outputs": [],
   "source": [
    "def generate_samples(mean, var, num):\n",
    "    samples = []\n",
    "    samples.append(mean[0] + np.random.randn(num) * var[0])\n",
    "    samples.append(mean[1] + np.random.randn(num) * var[1])\n",
    "    return samples\n",
    "\n",
    "samples1 = generate_samples([-2, -2], [1, 1], 200)\n",
    "samples2 = generate_samples([2, 2], [1, 1], 200)\n",
    "samples = np.vstack([np.hstack([samples1[0], samples2[0]]) , np.hstack([samples1[1], samples2[1]])])\n",
    "samples = samples.T"
   ]
  },
  {
   "cell_type": "markdown",
   "metadata": {},
   "source": [
    "## Clustering"
   ]
  },
  {
   "cell_type": "code",
   "execution_count": 4,
   "metadata": {},
   "outputs": [],
   "source": [
    "MS = MeanShift(band_width=3, min_fre=3, bin_size=4, bin_seeding=True)\n",
    "MS.fit(samples)\n",
    "labels = MS.labels"
   ]
  },
  {
   "cell_type": "markdown",
   "metadata": {},
   "source": [
    "## Visualization Raw Data"
   ]
  },
  {
   "cell_type": "code",
   "execution_count": 5,
   "metadata": {},
   "outputs": [
    {
     "data": {
      "image/png": "[encoded data removed]",
      "text/plain": [
       "<Figure size 432x288 with 1 Axes>"
      ]
     },
     "metadata": {
      "needs_background": "light"
     },
     "output_type": "display_data"
    }
   ],
   "source": [
    "fig = plt.figure()\n",
    "for i in range(200):\n",
    "    plt.plot(samples1[0][i], samples1[1][i], 'o', c='b')\n",
    "for i in range(200):\n",
    "    plt.plot(samples2[0][i], samples2[1][i], 'o', c='g')\n",
    "plt.savefig(\"fig1.png\")\n",
    "plt.show()\n",
    "plt.close()"
   ]
  },
  {
   "cell_type": "markdown",
   "metadata": {},
   "source": [
    "## Visualization Clustering Data"
   ]
  },
  {
   "cell_type": "code",
   "execution_count": 6,
   "metadata": {},
   "outputs": [
    {
     "data": {
      "image/png": "[encoded data removed]",
      "text/plain": [
       "<Figure size 432x288 with 1 Axes>"
      ]
     },
     "metadata": {
      "needs_background": "light"
     },
     "output_type": "display_data"
    }
   ],
   "source": [
    "def visualize(data, labels):\n",
    "    color = 'bgrymk'\n",
    "    unique_label = np.unique(labels)\n",
    "    for col, label in zip(cycle(color), unique_label):\n",
    "        partial_data = data[np.where(labels == label)]\n",
    "        plt.scatter(partial_data[:, 0], partial_data[:, 1], color=col)\n",
    "    plt.show()\n",
    "    return\n",
    "\n",
    "fig = plt.figure()\n",
    "visualize(samples, labels)\n",
    "plt.savefig(\"fig2.png\")\n",
    "plt.close()"
   ]
  }
 ],
 "metadata": {
  "kernelspec": {
   "display_name": "Python 3",
   "language": "python",
   "name": "python3"
  },
  "language_info": {
   "codemirror_mode": {
    "name": "ipython",
    "version": 3
   },
   "file_extension": ".py",
   "mimetype": "text/x-python",
   "name": "python",
   "nbconvert_exporter": "python",
   "pygments_lexer": "ipython3",
   "version": "3.7.4"
  }
 },
 "nbformat": 4,
 "nbformat_minor": 4
}
